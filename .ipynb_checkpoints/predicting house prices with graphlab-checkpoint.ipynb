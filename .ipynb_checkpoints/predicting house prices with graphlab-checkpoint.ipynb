{
 "cells": [
  {
   "cell_type": "markdown",
   "metadata": {},
   "source": [
    "# Fire up turicreate"
   ]
  },
  {
   "cell_type": "code",
   "execution_count": 12,
   "metadata": {},
   "outputs": [],
   "source": [
    "import graphlab as tc"
   ]
  },
  {
   "cell_type": "markdown",
   "metadata": {},
   "source": [
    "# Load some sales data"
   ]
  },
  {
   "cell_type": "code",
   "execution_count": 13,
   "metadata": {},
   "outputs": [],
   "source": [
    "sales=tc.SFrame('home_data.sframe')"
   ]
  },
  {
   "cell_type": "code",
   "execution_count": 14,
   "metadata": {},
   "outputs": [
    {
     "data": {
      "text/html": [
       "<div style=\"max-height:1000px;max-width:1500px;overflow:auto;\"><table frame=\"box\" rules=\"cols\">\n",
       "    <tr>\n",
       "        <th style=\"padding-left: 1em; padding-right: 1em; text-align: center\">id</th>\n",
       "        <th style=\"padding-left: 1em; padding-right: 1em; text-align: center\">date</th>\n",
       "        <th style=\"padding-left: 1em; padding-right: 1em; text-align: center\">price</th>\n",
       "        <th style=\"padding-left: 1em; padding-right: 1em; text-align: center\">bedrooms</th>\n",
       "        <th style=\"padding-left: 1em; padding-right: 1em; text-align: center\">bathrooms</th>\n",
       "        <th style=\"padding-left: 1em; padding-right: 1em; text-align: center\">sqft_living</th>\n",
       "        <th style=\"padding-left: 1em; padding-right: 1em; text-align: center\">sqft_lot</th>\n",
       "        <th style=\"padding-left: 1em; padding-right: 1em; text-align: center\">floors</th>\n",
       "        <th style=\"padding-left: 1em; padding-right: 1em; text-align: center\">waterfront</th>\n",
       "    </tr>\n",
       "    <tr>\n",
       "        <td style=\"padding-left: 1em; padding-right: 1em; text-align: center; vertical-align: top\">7129300520</td>\n",
       "        <td style=\"padding-left: 1em; padding-right: 1em; text-align: center; vertical-align: top\">2014-10-13 00:00:00+00:00</td>\n",
       "        <td style=\"padding-left: 1em; padding-right: 1em; text-align: center; vertical-align: top\">221900.0</td>\n",
       "        <td style=\"padding-left: 1em; padding-right: 1em; text-align: center; vertical-align: top\">3.0</td>\n",
       "        <td style=\"padding-left: 1em; padding-right: 1em; text-align: center; vertical-align: top\">1.0</td>\n",
       "        <td style=\"padding-left: 1em; padding-right: 1em; text-align: center; vertical-align: top\">1180.0</td>\n",
       "        <td style=\"padding-left: 1em; padding-right: 1em; text-align: center; vertical-align: top\">5650.0</td>\n",
       "        <td style=\"padding-left: 1em; padding-right: 1em; text-align: center; vertical-align: top\">1.0</td>\n",
       "        <td style=\"padding-left: 1em; padding-right: 1em; text-align: center; vertical-align: top\">0</td>\n",
       "    </tr>\n",
       "    <tr>\n",
       "        <td style=\"padding-left: 1em; padding-right: 1em; text-align: center; vertical-align: top\">6414100192</td>\n",
       "        <td style=\"padding-left: 1em; padding-right: 1em; text-align: center; vertical-align: top\">2014-12-09 00:00:00+00:00</td>\n",
       "        <td style=\"padding-left: 1em; padding-right: 1em; text-align: center; vertical-align: top\">538000.0</td>\n",
       "        <td style=\"padding-left: 1em; padding-right: 1em; text-align: center; vertical-align: top\">3.0</td>\n",
       "        <td style=\"padding-left: 1em; padding-right: 1em; text-align: center; vertical-align: top\">2.25</td>\n",
       "        <td style=\"padding-left: 1em; padding-right: 1em; text-align: center; vertical-align: top\">2570.0</td>\n",
       "        <td style=\"padding-left: 1em; padding-right: 1em; text-align: center; vertical-align: top\">7242.0</td>\n",
       "        <td style=\"padding-left: 1em; padding-right: 1em; text-align: center; vertical-align: top\">2.0</td>\n",
       "        <td style=\"padding-left: 1em; padding-right: 1em; text-align: center; vertical-align: top\">0</td>\n",
       "    </tr>\n",
       "    <tr>\n",
       "        <td style=\"padding-left: 1em; padding-right: 1em; text-align: center; vertical-align: top\">5631500400</td>\n",
       "        <td style=\"padding-left: 1em; padding-right: 1em; text-align: center; vertical-align: top\">2015-02-25 00:00:00+00:00</td>\n",
       "        <td style=\"padding-left: 1em; padding-right: 1em; text-align: center; vertical-align: top\">180000.0</td>\n",
       "        <td style=\"padding-left: 1em; padding-right: 1em; text-align: center; vertical-align: top\">2.0</td>\n",
       "        <td style=\"padding-left: 1em; padding-right: 1em; text-align: center; vertical-align: top\">1.0</td>\n",
       "        <td style=\"padding-left: 1em; padding-right: 1em; text-align: center; vertical-align: top\">770.0</td>\n",
       "        <td style=\"padding-left: 1em; padding-right: 1em; text-align: center; vertical-align: top\">10000.0</td>\n",
       "        <td style=\"padding-left: 1em; padding-right: 1em; text-align: center; vertical-align: top\">1.0</td>\n",
       "        <td style=\"padding-left: 1em; padding-right: 1em; text-align: center; vertical-align: top\">0</td>\n",
       "    </tr>\n",
       "    <tr>\n",
       "        <td style=\"padding-left: 1em; padding-right: 1em; text-align: center; vertical-align: top\">2487200875</td>\n",
       "        <td style=\"padding-left: 1em; padding-right: 1em; text-align: center; vertical-align: top\">2014-12-09 00:00:00+00:00</td>\n",
       "        <td style=\"padding-left: 1em; padding-right: 1em; text-align: center; vertical-align: top\">604000.0</td>\n",
       "        <td style=\"padding-left: 1em; padding-right: 1em; text-align: center; vertical-align: top\">4.0</td>\n",
       "        <td style=\"padding-left: 1em; padding-right: 1em; text-align: center; vertical-align: top\">3.0</td>\n",
       "        <td style=\"padding-left: 1em; padding-right: 1em; text-align: center; vertical-align: top\">1960.0</td>\n",
       "        <td style=\"padding-left: 1em; padding-right: 1em; text-align: center; vertical-align: top\">5000.0</td>\n",
       "        <td style=\"padding-left: 1em; padding-right: 1em; text-align: center; vertical-align: top\">1.0</td>\n",
       "        <td style=\"padding-left: 1em; padding-right: 1em; text-align: center; vertical-align: top\">0</td>\n",
       "    </tr>\n",
       "    <tr>\n",
       "        <td style=\"padding-left: 1em; padding-right: 1em; text-align: center; vertical-align: top\">1954400510</td>\n",
       "        <td style=\"padding-left: 1em; padding-right: 1em; text-align: center; vertical-align: top\">2015-02-18 00:00:00+00:00</td>\n",
       "        <td style=\"padding-left: 1em; padding-right: 1em; text-align: center; vertical-align: top\">510000.0</td>\n",
       "        <td style=\"padding-left: 1em; padding-right: 1em; text-align: center; vertical-align: top\">3.0</td>\n",
       "        <td style=\"padding-left: 1em; padding-right: 1em; text-align: center; vertical-align: top\">2.0</td>\n",
       "        <td style=\"padding-left: 1em; padding-right: 1em; text-align: center; vertical-align: top\">1680.0</td>\n",
       "        <td style=\"padding-left: 1em; padding-right: 1em; text-align: center; vertical-align: top\">8080.0</td>\n",
       "        <td style=\"padding-left: 1em; padding-right: 1em; text-align: center; vertical-align: top\">1.0</td>\n",
       "        <td style=\"padding-left: 1em; padding-right: 1em; text-align: center; vertical-align: top\">0</td>\n",
       "    </tr>\n",
       "    <tr>\n",
       "        <td style=\"padding-left: 1em; padding-right: 1em; text-align: center; vertical-align: top\">7237550310</td>\n",
       "        <td style=\"padding-left: 1em; padding-right: 1em; text-align: center; vertical-align: top\">2014-05-12 00:00:00+00:00</td>\n",
       "        <td style=\"padding-left: 1em; padding-right: 1em; text-align: center; vertical-align: top\">1225000.0</td>\n",
       "        <td style=\"padding-left: 1em; padding-right: 1em; text-align: center; vertical-align: top\">4.0</td>\n",
       "        <td style=\"padding-left: 1em; padding-right: 1em; text-align: center; vertical-align: top\">4.5</td>\n",
       "        <td style=\"padding-left: 1em; padding-right: 1em; text-align: center; vertical-align: top\">5420.0</td>\n",
       "        <td style=\"padding-left: 1em; padding-right: 1em; text-align: center; vertical-align: top\">101930.0</td>\n",
       "        <td style=\"padding-left: 1em; padding-right: 1em; text-align: center; vertical-align: top\">1.0</td>\n",
       "        <td style=\"padding-left: 1em; padding-right: 1em; text-align: center; vertical-align: top\">0</td>\n",
       "    </tr>\n",
       "    <tr>\n",
       "        <td style=\"padding-left: 1em; padding-right: 1em; text-align: center; vertical-align: top\">1321400060</td>\n",
       "        <td style=\"padding-left: 1em; padding-right: 1em; text-align: center; vertical-align: top\">2014-06-27 00:00:00+00:00</td>\n",
       "        <td style=\"padding-left: 1em; padding-right: 1em; text-align: center; vertical-align: top\">257500.0</td>\n",
       "        <td style=\"padding-left: 1em; padding-right: 1em; text-align: center; vertical-align: top\">3.0</td>\n",
       "        <td style=\"padding-left: 1em; padding-right: 1em; text-align: center; vertical-align: top\">2.25</td>\n",
       "        <td style=\"padding-left: 1em; padding-right: 1em; text-align: center; vertical-align: top\">1715.0</td>\n",
       "        <td style=\"padding-left: 1em; padding-right: 1em; text-align: center; vertical-align: top\">6819.0</td>\n",
       "        <td style=\"padding-left: 1em; padding-right: 1em; text-align: center; vertical-align: top\">2.0</td>\n",
       "        <td style=\"padding-left: 1em; padding-right: 1em; text-align: center; vertical-align: top\">0</td>\n",
       "    </tr>\n",
       "    <tr>\n",
       "        <td style=\"padding-left: 1em; padding-right: 1em; text-align: center; vertical-align: top\">2008000270</td>\n",
       "        <td style=\"padding-left: 1em; padding-right: 1em; text-align: center; vertical-align: top\">2015-01-15 00:00:00+00:00</td>\n",
       "        <td style=\"padding-left: 1em; padding-right: 1em; text-align: center; vertical-align: top\">291850.0</td>\n",
       "        <td style=\"padding-left: 1em; padding-right: 1em; text-align: center; vertical-align: top\">3.0</td>\n",
       "        <td style=\"padding-left: 1em; padding-right: 1em; text-align: center; vertical-align: top\">1.5</td>\n",
       "        <td style=\"padding-left: 1em; padding-right: 1em; text-align: center; vertical-align: top\">1060.0</td>\n",
       "        <td style=\"padding-left: 1em; padding-right: 1em; text-align: center; vertical-align: top\">9711.0</td>\n",
       "        <td style=\"padding-left: 1em; padding-right: 1em; text-align: center; vertical-align: top\">1.0</td>\n",
       "        <td style=\"padding-left: 1em; padding-right: 1em; text-align: center; vertical-align: top\">0</td>\n",
       "    </tr>\n",
       "    <tr>\n",
       "        <td style=\"padding-left: 1em; padding-right: 1em; text-align: center; vertical-align: top\">2414600126</td>\n",
       "        <td style=\"padding-left: 1em; padding-right: 1em; text-align: center; vertical-align: top\">2015-04-15 00:00:00+00:00</td>\n",
       "        <td style=\"padding-left: 1em; padding-right: 1em; text-align: center; vertical-align: top\">229500.0</td>\n",
       "        <td style=\"padding-left: 1em; padding-right: 1em; text-align: center; vertical-align: top\">3.0</td>\n",
       "        <td style=\"padding-left: 1em; padding-right: 1em; text-align: center; vertical-align: top\">1.0</td>\n",
       "        <td style=\"padding-left: 1em; padding-right: 1em; text-align: center; vertical-align: top\">1780.0</td>\n",
       "        <td style=\"padding-left: 1em; padding-right: 1em; text-align: center; vertical-align: top\">7470.0</td>\n",
       "        <td style=\"padding-left: 1em; padding-right: 1em; text-align: center; vertical-align: top\">1.0</td>\n",
       "        <td style=\"padding-left: 1em; padding-right: 1em; text-align: center; vertical-align: top\">0</td>\n",
       "    </tr>\n",
       "    <tr>\n",
       "        <td style=\"padding-left: 1em; padding-right: 1em; text-align: center; vertical-align: top\">3793500160</td>\n",
       "        <td style=\"padding-left: 1em; padding-right: 1em; text-align: center; vertical-align: top\">2015-03-12 00:00:00+00:00</td>\n",
       "        <td style=\"padding-left: 1em; padding-right: 1em; text-align: center; vertical-align: top\">323000.0</td>\n",
       "        <td style=\"padding-left: 1em; padding-right: 1em; text-align: center; vertical-align: top\">3.0</td>\n",
       "        <td style=\"padding-left: 1em; padding-right: 1em; text-align: center; vertical-align: top\">2.5</td>\n",
       "        <td style=\"padding-left: 1em; padding-right: 1em; text-align: center; vertical-align: top\">1890.0</td>\n",
       "        <td style=\"padding-left: 1em; padding-right: 1em; text-align: center; vertical-align: top\">6560.0</td>\n",
       "        <td style=\"padding-left: 1em; padding-right: 1em; text-align: center; vertical-align: top\">2.0</td>\n",
       "        <td style=\"padding-left: 1em; padding-right: 1em; text-align: center; vertical-align: top\">0</td>\n",
       "    </tr>\n",
       "</table>\n",
       "<table frame=\"box\" rules=\"cols\">\n",
       "    <tr>\n",
       "        <th style=\"padding-left: 1em; padding-right: 1em; text-align: center\">view</th>\n",
       "        <th style=\"padding-left: 1em; padding-right: 1em; text-align: center\">condition</th>\n",
       "        <th style=\"padding-left: 1em; padding-right: 1em; text-align: center\">grade</th>\n",
       "        <th style=\"padding-left: 1em; padding-right: 1em; text-align: center\">sqft_above</th>\n",
       "        <th style=\"padding-left: 1em; padding-right: 1em; text-align: center\">sqft_basement</th>\n",
       "        <th style=\"padding-left: 1em; padding-right: 1em; text-align: center\">yr_built</th>\n",
       "        <th style=\"padding-left: 1em; padding-right: 1em; text-align: center\">yr_renovated</th>\n",
       "        <th style=\"padding-left: 1em; padding-right: 1em; text-align: center\">zipcode</th>\n",
       "        <th style=\"padding-left: 1em; padding-right: 1em; text-align: center\">lat</th>\n",
       "    </tr>\n",
       "    <tr>\n",
       "        <td style=\"padding-left: 1em; padding-right: 1em; text-align: center; vertical-align: top\">0</td>\n",
       "        <td style=\"padding-left: 1em; padding-right: 1em; text-align: center; vertical-align: top\">3</td>\n",
       "        <td style=\"padding-left: 1em; padding-right: 1em; text-align: center; vertical-align: top\">7.0</td>\n",
       "        <td style=\"padding-left: 1em; padding-right: 1em; text-align: center; vertical-align: top\">1180.0</td>\n",
       "        <td style=\"padding-left: 1em; padding-right: 1em; text-align: center; vertical-align: top\">0.0</td>\n",
       "        <td style=\"padding-left: 1em; padding-right: 1em; text-align: center; vertical-align: top\">1955.0</td>\n",
       "        <td style=\"padding-left: 1em; padding-right: 1em; text-align: center; vertical-align: top\">0.0</td>\n",
       "        <td style=\"padding-left: 1em; padding-right: 1em; text-align: center; vertical-align: top\">98178</td>\n",
       "        <td style=\"padding-left: 1em; padding-right: 1em; text-align: center; vertical-align: top\">47.51123398</td>\n",
       "    </tr>\n",
       "    <tr>\n",
       "        <td style=\"padding-left: 1em; padding-right: 1em; text-align: center; vertical-align: top\">0</td>\n",
       "        <td style=\"padding-left: 1em; padding-right: 1em; text-align: center; vertical-align: top\">3</td>\n",
       "        <td style=\"padding-left: 1em; padding-right: 1em; text-align: center; vertical-align: top\">7.0</td>\n",
       "        <td style=\"padding-left: 1em; padding-right: 1em; text-align: center; vertical-align: top\">2170.0</td>\n",
       "        <td style=\"padding-left: 1em; padding-right: 1em; text-align: center; vertical-align: top\">400.0</td>\n",
       "        <td style=\"padding-left: 1em; padding-right: 1em; text-align: center; vertical-align: top\">1951.0</td>\n",
       "        <td style=\"padding-left: 1em; padding-right: 1em; text-align: center; vertical-align: top\">1991.0</td>\n",
       "        <td style=\"padding-left: 1em; padding-right: 1em; text-align: center; vertical-align: top\">98125</td>\n",
       "        <td style=\"padding-left: 1em; padding-right: 1em; text-align: center; vertical-align: top\">47.72102274</td>\n",
       "    </tr>\n",
       "    <tr>\n",
       "        <td style=\"padding-left: 1em; padding-right: 1em; text-align: center; vertical-align: top\">0</td>\n",
       "        <td style=\"padding-left: 1em; padding-right: 1em; text-align: center; vertical-align: top\">3</td>\n",
       "        <td style=\"padding-left: 1em; padding-right: 1em; text-align: center; vertical-align: top\">6.0</td>\n",
       "        <td style=\"padding-left: 1em; padding-right: 1em; text-align: center; vertical-align: top\">770.0</td>\n",
       "        <td style=\"padding-left: 1em; padding-right: 1em; text-align: center; vertical-align: top\">0.0</td>\n",
       "        <td style=\"padding-left: 1em; padding-right: 1em; text-align: center; vertical-align: top\">1933.0</td>\n",
       "        <td style=\"padding-left: 1em; padding-right: 1em; text-align: center; vertical-align: top\">0.0</td>\n",
       "        <td style=\"padding-left: 1em; padding-right: 1em; text-align: center; vertical-align: top\">98028</td>\n",
       "        <td style=\"padding-left: 1em; padding-right: 1em; text-align: center; vertical-align: top\">47.73792661</td>\n",
       "    </tr>\n",
       "    <tr>\n",
       "        <td style=\"padding-left: 1em; padding-right: 1em; text-align: center; vertical-align: top\">0</td>\n",
       "        <td style=\"padding-left: 1em; padding-right: 1em; text-align: center; vertical-align: top\">5</td>\n",
       "        <td style=\"padding-left: 1em; padding-right: 1em; text-align: center; vertical-align: top\">7.0</td>\n",
       "        <td style=\"padding-left: 1em; padding-right: 1em; text-align: center; vertical-align: top\">1050.0</td>\n",
       "        <td style=\"padding-left: 1em; padding-right: 1em; text-align: center; vertical-align: top\">910.0</td>\n",
       "        <td style=\"padding-left: 1em; padding-right: 1em; text-align: center; vertical-align: top\">1965.0</td>\n",
       "        <td style=\"padding-left: 1em; padding-right: 1em; text-align: center; vertical-align: top\">0.0</td>\n",
       "        <td style=\"padding-left: 1em; padding-right: 1em; text-align: center; vertical-align: top\">98136</td>\n",
       "        <td style=\"padding-left: 1em; padding-right: 1em; text-align: center; vertical-align: top\">47.52082</td>\n",
       "    </tr>\n",
       "    <tr>\n",
       "        <td style=\"padding-left: 1em; padding-right: 1em; text-align: center; vertical-align: top\">0</td>\n",
       "        <td style=\"padding-left: 1em; padding-right: 1em; text-align: center; vertical-align: top\">3</td>\n",
       "        <td style=\"padding-left: 1em; padding-right: 1em; text-align: center; vertical-align: top\">8.0</td>\n",
       "        <td style=\"padding-left: 1em; padding-right: 1em; text-align: center; vertical-align: top\">1680.0</td>\n",
       "        <td style=\"padding-left: 1em; padding-right: 1em; text-align: center; vertical-align: top\">0.0</td>\n",
       "        <td style=\"padding-left: 1em; padding-right: 1em; text-align: center; vertical-align: top\">1987.0</td>\n",
       "        <td style=\"padding-left: 1em; padding-right: 1em; text-align: center; vertical-align: top\">0.0</td>\n",
       "        <td style=\"padding-left: 1em; padding-right: 1em; text-align: center; vertical-align: top\">98074</td>\n",
       "        <td style=\"padding-left: 1em; padding-right: 1em; text-align: center; vertical-align: top\">47.61681228</td>\n",
       "    </tr>\n",
       "    <tr>\n",
       "        <td style=\"padding-left: 1em; padding-right: 1em; text-align: center; vertical-align: top\">0</td>\n",
       "        <td style=\"padding-left: 1em; padding-right: 1em; text-align: center; vertical-align: top\">3</td>\n",
       "        <td style=\"padding-left: 1em; padding-right: 1em; text-align: center; vertical-align: top\">11.0</td>\n",
       "        <td style=\"padding-left: 1em; padding-right: 1em; text-align: center; vertical-align: top\">3890.0</td>\n",
       "        <td style=\"padding-left: 1em; padding-right: 1em; text-align: center; vertical-align: top\">1530.0</td>\n",
       "        <td style=\"padding-left: 1em; padding-right: 1em; text-align: center; vertical-align: top\">2001.0</td>\n",
       "        <td style=\"padding-left: 1em; padding-right: 1em; text-align: center; vertical-align: top\">0.0</td>\n",
       "        <td style=\"padding-left: 1em; padding-right: 1em; text-align: center; vertical-align: top\">98053</td>\n",
       "        <td style=\"padding-left: 1em; padding-right: 1em; text-align: center; vertical-align: top\">47.65611835</td>\n",
       "    </tr>\n",
       "    <tr>\n",
       "        <td style=\"padding-left: 1em; padding-right: 1em; text-align: center; vertical-align: top\">0</td>\n",
       "        <td style=\"padding-left: 1em; padding-right: 1em; text-align: center; vertical-align: top\">3</td>\n",
       "        <td style=\"padding-left: 1em; padding-right: 1em; text-align: center; vertical-align: top\">7.0</td>\n",
       "        <td style=\"padding-left: 1em; padding-right: 1em; text-align: center; vertical-align: top\">1715.0</td>\n",
       "        <td style=\"padding-left: 1em; padding-right: 1em; text-align: center; vertical-align: top\">0.0</td>\n",
       "        <td style=\"padding-left: 1em; padding-right: 1em; text-align: center; vertical-align: top\">1995.0</td>\n",
       "        <td style=\"padding-left: 1em; padding-right: 1em; text-align: center; vertical-align: top\">0.0</td>\n",
       "        <td style=\"padding-left: 1em; padding-right: 1em; text-align: center; vertical-align: top\">98003</td>\n",
       "        <td style=\"padding-left: 1em; padding-right: 1em; text-align: center; vertical-align: top\">47.30972002</td>\n",
       "    </tr>\n",
       "    <tr>\n",
       "        <td style=\"padding-left: 1em; padding-right: 1em; text-align: center; vertical-align: top\">0</td>\n",
       "        <td style=\"padding-left: 1em; padding-right: 1em; text-align: center; vertical-align: top\">3</td>\n",
       "        <td style=\"padding-left: 1em; padding-right: 1em; text-align: center; vertical-align: top\">7.0</td>\n",
       "        <td style=\"padding-left: 1em; padding-right: 1em; text-align: center; vertical-align: top\">1060.0</td>\n",
       "        <td style=\"padding-left: 1em; padding-right: 1em; text-align: center; vertical-align: top\">0.0</td>\n",
       "        <td style=\"padding-left: 1em; padding-right: 1em; text-align: center; vertical-align: top\">1963.0</td>\n",
       "        <td style=\"padding-left: 1em; padding-right: 1em; text-align: center; vertical-align: top\">0.0</td>\n",
       "        <td style=\"padding-left: 1em; padding-right: 1em; text-align: center; vertical-align: top\">98198</td>\n",
       "        <td style=\"padding-left: 1em; padding-right: 1em; text-align: center; vertical-align: top\">47.40949984</td>\n",
       "    </tr>\n",
       "    <tr>\n",
       "        <td style=\"padding-left: 1em; padding-right: 1em; text-align: center; vertical-align: top\">0</td>\n",
       "        <td style=\"padding-left: 1em; padding-right: 1em; text-align: center; vertical-align: top\">3</td>\n",
       "        <td style=\"padding-left: 1em; padding-right: 1em; text-align: center; vertical-align: top\">7.0</td>\n",
       "        <td style=\"padding-left: 1em; padding-right: 1em; text-align: center; vertical-align: top\">1050.0</td>\n",
       "        <td style=\"padding-left: 1em; padding-right: 1em; text-align: center; vertical-align: top\">730.0</td>\n",
       "        <td style=\"padding-left: 1em; padding-right: 1em; text-align: center; vertical-align: top\">1960.0</td>\n",
       "        <td style=\"padding-left: 1em; padding-right: 1em; text-align: center; vertical-align: top\">0.0</td>\n",
       "        <td style=\"padding-left: 1em; padding-right: 1em; text-align: center; vertical-align: top\">98146</td>\n",
       "        <td style=\"padding-left: 1em; padding-right: 1em; text-align: center; vertical-align: top\">47.51229381</td>\n",
       "    </tr>\n",
       "    <tr>\n",
       "        <td style=\"padding-left: 1em; padding-right: 1em; text-align: center; vertical-align: top\">0</td>\n",
       "        <td style=\"padding-left: 1em; padding-right: 1em; text-align: center; vertical-align: top\">3</td>\n",
       "        <td style=\"padding-left: 1em; padding-right: 1em; text-align: center; vertical-align: top\">7.0</td>\n",
       "        <td style=\"padding-left: 1em; padding-right: 1em; text-align: center; vertical-align: top\">1890.0</td>\n",
       "        <td style=\"padding-left: 1em; padding-right: 1em; text-align: center; vertical-align: top\">0.0</td>\n",
       "        <td style=\"padding-left: 1em; padding-right: 1em; text-align: center; vertical-align: top\">2003.0</td>\n",
       "        <td style=\"padding-left: 1em; padding-right: 1em; text-align: center; vertical-align: top\">0.0</td>\n",
       "        <td style=\"padding-left: 1em; padding-right: 1em; text-align: center; vertical-align: top\">98038</td>\n",
       "        <td style=\"padding-left: 1em; padding-right: 1em; text-align: center; vertical-align: top\">47.36840673</td>\n",
       "    </tr>\n",
       "</table>\n",
       "<table frame=\"box\" rules=\"cols\">\n",
       "    <tr>\n",
       "        <th style=\"padding-left: 1em; padding-right: 1em; text-align: center\">long</th>\n",
       "        <th style=\"padding-left: 1em; padding-right: 1em; text-align: center\">sqft_living15</th>\n",
       "        <th style=\"padding-left: 1em; padding-right: 1em; text-align: center\">sqft_lot15</th>\n",
       "    </tr>\n",
       "    <tr>\n",
       "        <td style=\"padding-left: 1em; padding-right: 1em; text-align: center; vertical-align: top\">-122.25677536</td>\n",
       "        <td style=\"padding-left: 1em; padding-right: 1em; text-align: center; vertical-align: top\">1340.0</td>\n",
       "        <td style=\"padding-left: 1em; padding-right: 1em; text-align: center; vertical-align: top\">5650.0</td>\n",
       "    </tr>\n",
       "    <tr>\n",
       "        <td style=\"padding-left: 1em; padding-right: 1em; text-align: center; vertical-align: top\">-122.3188624</td>\n",
       "        <td style=\"padding-left: 1em; padding-right: 1em; text-align: center; vertical-align: top\">1690.0</td>\n",
       "        <td style=\"padding-left: 1em; padding-right: 1em; text-align: center; vertical-align: top\">7639.0</td>\n",
       "    </tr>\n",
       "    <tr>\n",
       "        <td style=\"padding-left: 1em; padding-right: 1em; text-align: center; vertical-align: top\">-122.23319601</td>\n",
       "        <td style=\"padding-left: 1em; padding-right: 1em; text-align: center; vertical-align: top\">2720.0</td>\n",
       "        <td style=\"padding-left: 1em; padding-right: 1em; text-align: center; vertical-align: top\">8062.0</td>\n",
       "    </tr>\n",
       "    <tr>\n",
       "        <td style=\"padding-left: 1em; padding-right: 1em; text-align: center; vertical-align: top\">-122.39318505</td>\n",
       "        <td style=\"padding-left: 1em; padding-right: 1em; text-align: center; vertical-align: top\">1360.0</td>\n",
       "        <td style=\"padding-left: 1em; padding-right: 1em; text-align: center; vertical-align: top\">5000.0</td>\n",
       "    </tr>\n",
       "    <tr>\n",
       "        <td style=\"padding-left: 1em; padding-right: 1em; text-align: center; vertical-align: top\">-122.04490059</td>\n",
       "        <td style=\"padding-left: 1em; padding-right: 1em; text-align: center; vertical-align: top\">1800.0</td>\n",
       "        <td style=\"padding-left: 1em; padding-right: 1em; text-align: center; vertical-align: top\">7503.0</td>\n",
       "    </tr>\n",
       "    <tr>\n",
       "        <td style=\"padding-left: 1em; padding-right: 1em; text-align: center; vertical-align: top\">-122.00528655</td>\n",
       "        <td style=\"padding-left: 1em; padding-right: 1em; text-align: center; vertical-align: top\">4760.0</td>\n",
       "        <td style=\"padding-left: 1em; padding-right: 1em; text-align: center; vertical-align: top\">101930.0</td>\n",
       "    </tr>\n",
       "    <tr>\n",
       "        <td style=\"padding-left: 1em; padding-right: 1em; text-align: center; vertical-align: top\">-122.32704857</td>\n",
       "        <td style=\"padding-left: 1em; padding-right: 1em; text-align: center; vertical-align: top\">2238.0</td>\n",
       "        <td style=\"padding-left: 1em; padding-right: 1em; text-align: center; vertical-align: top\">6819.0</td>\n",
       "    </tr>\n",
       "    <tr>\n",
       "        <td style=\"padding-left: 1em; padding-right: 1em; text-align: center; vertical-align: top\">-122.31457273</td>\n",
       "        <td style=\"padding-left: 1em; padding-right: 1em; text-align: center; vertical-align: top\">1650.0</td>\n",
       "        <td style=\"padding-left: 1em; padding-right: 1em; text-align: center; vertical-align: top\">9711.0</td>\n",
       "    </tr>\n",
       "    <tr>\n",
       "        <td style=\"padding-left: 1em; padding-right: 1em; text-align: center; vertical-align: top\">-122.33659507</td>\n",
       "        <td style=\"padding-left: 1em; padding-right: 1em; text-align: center; vertical-align: top\">1780.0</td>\n",
       "        <td style=\"padding-left: 1em; padding-right: 1em; text-align: center; vertical-align: top\">8113.0</td>\n",
       "    </tr>\n",
       "    <tr>\n",
       "        <td style=\"padding-left: 1em; padding-right: 1em; text-align: center; vertical-align: top\">-122.0308176</td>\n",
       "        <td style=\"padding-left: 1em; padding-right: 1em; text-align: center; vertical-align: top\">2390.0</td>\n",
       "        <td style=\"padding-left: 1em; padding-right: 1em; text-align: center; vertical-align: top\">7570.0</td>\n",
       "    </tr>\n",
       "</table>\n",
       "[21613 rows x 21 columns]<br/>Note: Only the head of the SFrame is printed.<br/>You can use print_rows(num_rows=m, num_columns=n) to print more rows and columns.\n",
       "</div>"
      ],
      "text/plain": [
       "Columns:\n",
       "\tid\tstr\n",
       "\tdate\tdatetime\n",
       "\tprice\tfloat\n",
       "\tbedrooms\tfloat\n",
       "\tbathrooms\tfloat\n",
       "\tsqft_living\tfloat\n",
       "\tsqft_lot\tfloat\n",
       "\tfloors\tfloat\n",
       "\twaterfront\tint\n",
       "\tview\tint\n",
       "\tcondition\tint\n",
       "\tgrade\tfloat\n",
       "\tsqft_above\tfloat\n",
       "\tsqft_basement\tfloat\n",
       "\tyr_built\tfloat\n",
       "\tyr_renovated\tfloat\n",
       "\tzipcode\tstr\n",
       "\tlat\tfloat\n",
       "\tlong\tfloat\n",
       "\tsqft_living15\tfloat\n",
       "\tsqft_lot15\tfloat\n",
       "\n",
       "Rows: 21613\n",
       "\n",
       "Data:\n",
       "+------------+---------------------------+-----------+----------+-----------+\n",
       "|     id     |            date           |   price   | bedrooms | bathrooms |\n",
       "+------------+---------------------------+-----------+----------+-----------+\n",
       "| 7129300520 | 2014-10-13 00:00:00+00:00 |  221900.0 |   3.0    |    1.0    |\n",
       "| 6414100192 | 2014-12-09 00:00:00+00:00 |  538000.0 |   3.0    |    2.25   |\n",
       "| 5631500400 | 2015-02-25 00:00:00+00:00 |  180000.0 |   2.0    |    1.0    |\n",
       "| 2487200875 | 2014-12-09 00:00:00+00:00 |  604000.0 |   4.0    |    3.0    |\n",
       "| 1954400510 | 2015-02-18 00:00:00+00:00 |  510000.0 |   3.0    |    2.0    |\n",
       "| 7237550310 | 2014-05-12 00:00:00+00:00 | 1225000.0 |   4.0    |    4.5    |\n",
       "| 1321400060 | 2014-06-27 00:00:00+00:00 |  257500.0 |   3.0    |    2.25   |\n",
       "| 2008000270 | 2015-01-15 00:00:00+00:00 |  291850.0 |   3.0    |    1.5    |\n",
       "| 2414600126 | 2015-04-15 00:00:00+00:00 |  229500.0 |   3.0    |    1.0    |\n",
       "| 3793500160 | 2015-03-12 00:00:00+00:00 |  323000.0 |   3.0    |    2.5    |\n",
       "+------------+---------------------------+-----------+----------+-----------+\n",
       "+-------------+----------+--------+------------+------+-----------+-------+\n",
       "| sqft_living | sqft_lot | floors | waterfront | view | condition | grade |\n",
       "+-------------+----------+--------+------------+------+-----------+-------+\n",
       "|    1180.0   |  5650.0  |  1.0   |     0      |  0   |     3     |  7.0  |\n",
       "|    2570.0   |  7242.0  |  2.0   |     0      |  0   |     3     |  7.0  |\n",
       "|    770.0    | 10000.0  |  1.0   |     0      |  0   |     3     |  6.0  |\n",
       "|    1960.0   |  5000.0  |  1.0   |     0      |  0   |     5     |  7.0  |\n",
       "|    1680.0   |  8080.0  |  1.0   |     0      |  0   |     3     |  8.0  |\n",
       "|    5420.0   | 101930.0 |  1.0   |     0      |  0   |     3     |  11.0 |\n",
       "|    1715.0   |  6819.0  |  2.0   |     0      |  0   |     3     |  7.0  |\n",
       "|    1060.0   |  9711.0  |  1.0   |     0      |  0   |     3     |  7.0  |\n",
       "|    1780.0   |  7470.0  |  1.0   |     0      |  0   |     3     |  7.0  |\n",
       "|    1890.0   |  6560.0  |  2.0   |     0      |  0   |     3     |  7.0  |\n",
       "+-------------+----------+--------+------------+------+-----------+-------+\n",
       "+------------+---------------+----------+--------------+---------+-------------+\n",
       "| sqft_above | sqft_basement | yr_built | yr_renovated | zipcode |     lat     |\n",
       "+------------+---------------+----------+--------------+---------+-------------+\n",
       "|   1180.0   |      0.0      |  1955.0  |     0.0      |  98178  | 47.51123398 |\n",
       "|   2170.0   |     400.0     |  1951.0  |    1991.0    |  98125  | 47.72102274 |\n",
       "|   770.0    |      0.0      |  1933.0  |     0.0      |  98028  | 47.73792661 |\n",
       "|   1050.0   |     910.0     |  1965.0  |     0.0      |  98136  |   47.52082  |\n",
       "|   1680.0   |      0.0      |  1987.0  |     0.0      |  98074  | 47.61681228 |\n",
       "|   3890.0   |     1530.0    |  2001.0  |     0.0      |  98053  | 47.65611835 |\n",
       "|   1715.0   |      0.0      |  1995.0  |     0.0      |  98003  | 47.30972002 |\n",
       "|   1060.0   |      0.0      |  1963.0  |     0.0      |  98198  | 47.40949984 |\n",
       "|   1050.0   |     730.0     |  1960.0  |     0.0      |  98146  | 47.51229381 |\n",
       "|   1890.0   |      0.0      |  2003.0  |     0.0      |  98038  | 47.36840673 |\n",
       "+------------+---------------+----------+--------------+---------+-------------+\n",
       "+---------------+---------------+-----+\n",
       "|      long     | sqft_living15 | ... |\n",
       "+---------------+---------------+-----+\n",
       "| -122.25677536 |     1340.0    | ... |\n",
       "|  -122.3188624 |     1690.0    | ... |\n",
       "| -122.23319601 |     2720.0    | ... |\n",
       "| -122.39318505 |     1360.0    | ... |\n",
       "| -122.04490059 |     1800.0    | ... |\n",
       "| -122.00528655 |     4760.0    | ... |\n",
       "| -122.32704857 |     2238.0    | ... |\n",
       "| -122.31457273 |     1650.0    | ... |\n",
       "| -122.33659507 |     1780.0    | ... |\n",
       "|  -122.0308176 |     2390.0    | ... |\n",
       "+---------------+---------------+-----+\n",
       "[21613 rows x 21 columns]\n",
       "Note: Only the head of the SFrame is printed.\n",
       "You can use print_rows(num_rows=m, num_columns=n) to print more rows and columns."
      ]
     },
     "execution_count": 14,
     "metadata": {},
     "output_type": "execute_result"
    }
   ],
   "source": [
    "sales"
   ]
  },
  {
   "cell_type": "markdown",
   "metadata": {},
   "source": [
    "# Exploring the data for housing sales"
   ]
  },
  {
   "cell_type": "code",
   "execution_count": 15,
   "metadata": {},
   "outputs": [
    {
     "data": {
      "application/javascript": [
       "$(\"head\").append($(\"<link/>\").attr({\n",
       "  rel:  \"stylesheet\",\n",
       "  type: \"text/css\",\n",
       "  href: \"//cdnjs.cloudflare.com/ajax/libs/font-awesome/4.1.0/css/font-awesome.min.css\"\n",
       "}));\n",
       "$(\"head\").append($(\"<link/>\").attr({\n",
       "  rel:  \"stylesheet\",\n",
       "  type: \"text/css\",\n",
       "  href: \"https://static.turi.com/products/graphlab-create/2.1/canvas/css/canvas.css\"\n",
       "}));\n",
       "\n",
       "            (function(){\n",
       "\n",
       "                var e = null;\n",
       "                if (typeof element == 'undefined') {\n",
       "                    var scripts = document.getElementsByTagName('script');\n",
       "                    var thisScriptTag = scripts[scripts.length-1];\n",
       "                    var parentDiv = thisScriptTag.parentNode;\n",
       "                    e = document.createElement('div');\n",
       "                    parentDiv.appendChild(e);\n",
       "                } else {\n",
       "                    e = element[0];\n",
       "                }\n",
       "\n",
       "                if (typeof requirejs !== 'undefined') {\n",
       "                    // disable load timeout; ipython_app.js is large and can take a while to load.\n",
       "                    requirejs.config({waitSeconds: 0});\n",
       "                }\n",
       "\n",
       "                require(['https://static.turi.com/products/graphlab-create/2.1/canvas/js/ipython_app.js'], function(IPythonApp){\n",
       "                    var app = new IPythonApp();\n",
       "                    app.attachView('sframe','Plots', {\"selected_variable\": {\"name\": [\"sales\"], \"descriptives\": {\"rows\": 21613, \"columns\": 21}, \"view_component\": \"Plots\", \"view_file\": \"sframe\", \"view_params\": {\"y\": \"price\", \"x\": \"sqft_living\", \"columns\": [\"id\", \"date\", \"price\", \"bedrooms\", \"bathrooms\", \"sqft_living\", \"sqft_lot\", \"floors\", \"waterfront\", \"view\", \"condition\", \"grade\", \"sqft_above\", \"sqft_basement\", \"yr_built\", \"yr_renovated\", \"zipcode\", \"lat\", \"long\", \"sqft_living15\", \"sqft_lot15\"], \"view\": \"Scatter Plot\"}, \"view_components\": [\"Summary\", \"Table\", \"Bar Chart\", \"BoxWhisker Plot\", \"Line Chart\", \"Scatter Plot\", \"Heat Map\", \"Plots\"], \"type\": \"SFrame\", \"columns\": [{\"dtype\": \"str\", \"name\": \"id\"}, {\"dtype\": \"datetime\", \"name\": \"date\"}, {\"dtype\": \"float\", \"name\": \"price\"}, {\"dtype\": \"float\", \"name\": \"bedrooms\"}, {\"dtype\": \"float\", \"name\": \"bathrooms\"}, {\"dtype\": \"float\", \"name\": \"sqft_living\"}, {\"dtype\": \"float\", \"name\": \"sqft_lot\"}, {\"dtype\": \"float\", \"name\": \"floors\"}, {\"dtype\": \"int\", \"name\": \"waterfront\"}, {\"dtype\": \"int\", \"name\": \"view\"}, {\"dtype\": \"int\", \"name\": \"condition\"}, {\"dtype\": \"float\", \"name\": \"grade\"}, {\"dtype\": \"float\", \"name\": \"sqft_above\"}, {\"dtype\": \"float\", \"name\": \"sqft_basement\"}, {\"dtype\": \"float\", \"name\": \"yr_built\"}, {\"dtype\": \"float\", \"name\": \"yr_renovated\"}, {\"dtype\": \"str\", \"name\": \"zipcode\"}, {\"dtype\": \"float\", \"name\": \"lat\"}, {\"dtype\": \"float\", \"name\": \"long\"}, {\"dtype\": \"float\", \"name\": \"sqft_living15\"}, {\"dtype\": \"float\", \"name\": \"sqft_lot15\"}], \"column_identifiers\": [\"bathrooms\", \"sqft_living15\", \"sqft_above\", \"grade\", \"yr_built\", \"price\", \"bedrooms\", \"zipcode\", \"long\", \"id\", \"sqft_lot15\", \"sqft_living\", \"floors\", \"sqft_lot\", \"date\", \"waterfront\", \"sqft_basement\", \"yr_renovated\", \"lat\", \"condition\", \"view\"]}, \"complete\": 1, \"ipython\": true, \"progress\": 1.0, \"data\": [[1010.0, 165000.0], [2340.0, 427874.0], [2110.0, 825000.0], [2290.0, 540000.0], [1670.0, 585000.0], [5420.0, 1225000.0], [2980.0, 350000.0], [2590.0, 760000.0], [1840.0, 540000.0], [4000.0, 688000.0], [2750.0, 333000.0], [3520.0, 1395000.0], [1280.0, 405000.0], [2740.0, 407500.0], [3500.0, 797000.0], [1470.0, 630000.0], [1030.0, 267000.0], [1430.0, 255000.0], [1610.0, 1180500.0], [2390.0, 260000.0], [1470.0, 215000.0], [880.0, 210000.0], [1950.0, 580000.0], [3300.0, 484000.0], [2460.0, 750000.0], [1640.0, 207500.0], [1790.0, 405000.0], [1260.0, 329950.0], [2070.0, 560000.0], [1500.0, 270000.0], [1320.0, 262000.0], [3950.0, 1780000.0], [2630.0, 495000.0], [1280.0, 367400.0], [2060.0, 322500.0], [1520.0, 475000.0], [2070.0, 470500.0], [3420.0, 692500.0], [1730.0, 525000.0], [1360.0, 507000.0], [3120.0, 419950.0], [1890.0, 271900.0], [1340.0, 275000.0], [2780.0, 995000.0], [1090.0, 249000.0], [2400.0, 300000.0], [1040.0, 172500.0], [1380.0, 375000.0], [4390.0, 1050000.0], [2070.0, 395000.0], [1730.0, 355000.0], [1610.0, 375000.0], [1560.0, 500000.0], [1300.0, 460000.0], [2250.0, 550000.0], [1230.0, 295000.0], [2650.0, 790000.0], [2420.0, 301000.0], [3250.0, 951000.0], [2910.0, 749950.0], [3110.0, 925000.0], [990.0, 409950.0], [1100.0, 225000.0], [2350.0, 235000.0], [1360.0, 703000.0], [3410.0, 1575000.0], [3890.0, 1125000.0], [1180.0, 330000.0], [4040.0, 760000.0], [2640.0, 365000.0], [3250.0, 863500.0], [2760.0, 575000.0], [910.0, 299950.0], [810.0, 229000.0], [2020.0, 507500.0], [1250.0, 333000.0], [860.0, 370000.0], [2960.0, 883000.0], [1410.0, 410000.0], [3340.0, 749950.0], [2130.0, 762000.0], [1640.0, 517000.0], [2980.0, 850000.0], [1520.0, 292600.0], [3040.0, 415000.0], [1950.0, 585000.0], [4040.0, 765000.0], [1540.0, 519500.0], [1430.0, 270000.0], [3140.0, 740000.0], [2300.0, 680000.0], [2080.0, 592500.0], [1690.0, 459800.0], [1320.0, 594000.0], [1150.0, 344000.0], [2340.0, 459900.0], [5550.0, 2350000.0], [3050.0, 750000.0], [1810.0, 314000.0], [3990.0, 866000.0], [2056.0, 303000.0], [4670.0, 1415000.0], [3690.0, 655000.0], [930.0, 275000.0], [1850.0, 469500.0], [2170.0, 467000.0], [1550.0, 330000.0], [1740.0, 219000.0], [3280.0, 925000.0], [2430.0, 780000.0], [2070.0, 289950.0], [1260.0, 570000.0], [1220.0, 231000.0], [1780.0, 325000.0], [2030.0, 275000.0], [1560.0, 290000.0], [1550.0, 1075000.0], [1760.0, 579000.0], [1200.0, 234000.0], [2090.0, 327500.0], [2040.0, 464625.0], [1920.0, 270000.0], [1510.0, 310650.0], [790.0, 212000.0], [3230.0, 370000.0], [930.0, 550500.0], [1700.0, 565000.0], [910.0, 305000.0], [1870.0, 377000.0], [2070.0, 430000.0], [1600.0, 455000.0], [2140.0, 359500.0], [1810.0, 430000.0], [2260.0, 632000.0], [3040.0, 830000.0], [2500.0, 241500.0], [1340.0, 230000.0], [2980.0, 565000.0], [1190.0, 382500.0], [2910.0, 870000.0], [1080.0, 440000.0], [2310.0, 319950.0], [1010.0, 405000.0], [960.0, 255000.0], [1540.0, 260000.0], [1010.0, 440000.0], [1110.0, 416000.0], [1020.0, 280000.0], [2050.0, 761000.0], [690.0, 280000.0], [2280.0, 312500.0], [1860.0, 330000.0], [900.0, 473000.0], [2710.0, 275000.0], [2060.0, 675500.0], [3550.0, 895000.0], [3840.0, 829900.0], [1660.0, 515000.0], [3380.0, 470000.0], [1410.0, 760000.0], [2060.0, 255000.0], [3810.0, 2005000.0], [1370.0, 355000.0], [2200.0, 365000.0], [1980.0, 550000.0], [2450.0, 939000.0], [1150.0, 445000.0], [1380.0, 335000.0], [1510.0, 593777.0], [1800.0, 495000.0], [2170.0, 560000.0], [1140.0, 262500.0], [2720.0, 710000.0], [1340.0, 160000.0], [670.0, 340000.0], [2660.0, 760000.0], [840.0, 251000.0], [2940.0, 1010000.0], [2120.0, 200000.0], [950.0, 350000.0], [1670.0, 260000.0], [1250.0, 144000.0], [3320.0, 959000.0], [1180.0, 360000.0], [1340.0, 332000.0], [2430.0, 465425.0], [1310.0, 455000.0], [2460.0, 358000.0], [4080.0, 920000.0], [1030.0, 469000.0], [3190.0, 760750.0], [2020.0, 490000.0], [2090.0, 632500.0], [1020.0, 460000.0], [2010.0, 439000.0], [1260.0, 485000.0], [1770.0, 439950.0], [980.0, 295000.0], [2400.0, 278000.0], [1000.0, 305000.0], [3480.0, 1190000.0], [950.0, 339000.0], [1530.0, 595000.0], [2050.0, 550000.0], [2230.0, 700000.0], [990.0, 490000.0], [730.0, 465000.0], [1100.0, 423000.0], [1440.0, 650000.0], [4030.0, 929000.0], [3520.0, 1110000.0], [4830.0, 1679000.0], [2850.0, 650000.0], [4030.0, 989000.0], [3210.0, 725000.0], [3090.0, 751000.0], [2570.0, 670000.0], [2620.0, 360000.0], [3900.0, 1072000.0], [3300.0, 729000.0], [2420.0, 712500.0], [1200.0, 420000.0], [1860.0, 400000.0], [2550.0, 808000.0], [1370.0, 563250.0], [2490.0, 950000.0], [1400.0, 450000.0], [1510.0, 196000.0], [2930.0, 782500.0], [3490.0, 1620500.0], [2160.0, 359000.0], [2850.0, 1535000.0], [820.0, 554000.0], [1200.0, 231500.0], [1850.0, 218000.0], [890.0, 275400.0], [1480.0, 268000.0], [930.0, 176500.0], [2210.0, 1262000.0], [4290.0, 2680000.0], [1060.0, 326500.0], [1060.0, 344000.0], [3340.0, 485000.0], [1520.0, 495000.0], [1790.0, 865000.0], [2780.0, 528000.0], [3450.0, 525000.0], [1360.0, 250000.0], [1350.0, 353000.0], [1440.0, 437000.0], [570.0, 89950.0], [3360.0, 455000.0], [920.0, 490000.0], [1480.0, 509250.0], [1780.0, 175000.0], [1420.0, 592500.0], [4210.0, 1054712.0], [2610.0, 360000.0], [980.0, 425000.0], [2280.0, 597000.0], [4060.0, 530000.0], [1400.0, 267500.0], [2960.0, 750000.0], [1680.0, 262000.0], [1270.0, 299000.0], [850.0, 132500.0], [2650.0, 898000.0], [1510.0, 360000.0], [2650.0, 1388000.0], [2640.0, 657000.0], [2620.0, 750000.0], [2300.0, 610000.0], [1820.0, 327500.0], [3050.0, 865000.0], [2930.0, 915000.0], [1440.0, 258950.0], [1110.0, 343000.0], [1680.0, 475000.0], [1660.0, 548800.0], [2740.0, 705000.0], [2460.0, 630000.0], [860.0, 170000.0], [2300.0, 1000000.0], [3230.0, 569950.0], [1070.0, 382000.0], [1450.0, 402000.0], [2280.0, 305000.0], [1960.0, 425000.0], [3370.0, 813000.0], [1050.0, 206000.0], [2590.0, 396500.0], [3330.0, 1205000.0], [1060.0, 295000.0], [2720.0, 873000.0], [2640.0, 518000.0], [1000.0, 189900.0], [2600.0, 985000.0], [1550.0, 430000.0], [3260.0, 353950.0], [1090.0, 289000.0], [1240.0, 445000.0], [3560.0, 1395000.0], [1970.0, 812000.0], [2090.0, 717500.0], [1800.0, 442500.0], [1620.0, 498000.0], [4240.0, 1160000.0], [1680.0, 359000.0], [880.0, 199400.0], [1230.0, 139500.0], [2510.0, 520000.0], [2980.0, 750000.0], [1680.0, 377000.0], [2060.0, 348140.0], [1500.0, 651500.0], [2510.0, 881000.0], [2250.0, 572650.0], [3070.0, 1715000.0], [2000.0, 334000.0], [2090.0, 374950.0], [3160.0, 685000.0], [1850.0, 547500.0], [1610.0, 250000.0], [2300.0, 452000.0], [1240.0, 232000.0], [2230.0, 337000.0], [7120.0, 900000.0], [1200.0, 232000.0], [1290.0, 590000.0], [1860.0, 590000.0], [870.0, 235000.0], [2300.0, 395000.0], [3080.0, 1165000.0], [2530.0, 720000.0], [2490.0, 940000.0], [1960.0, 260000.0], [3500.0, 682500.0], [2010.0, 699000.0], [1270.0, 256000.0], [1740.0, 245000.0], [1230.0, 740000.0], [1200.0, 219950.0], [1150.0, 450000.0], [960.0, 242000.0], [1850.0, 489200.0], [1340.0, 324950.0], [1510.0, 340768.0], [2880.0, 845000.0], [1540.0, 240000.0], [3340.0, 910000.0], [2240.0, 610000.0], [2120.0, 561000.0], [1940.0, 390000.0], [2470.0, 485000.0], [2670.0, 669950.0], [1640.0, 190000.0], [860.0, 399900.0], [1890.0, 265000.0], [2040.0, 315000.0], [1250.0, 344000.0], [3560.0, 851000.0], [1240.0, 259950.0], [1560.0, 439000.0], [3030.0, 879000.0], [2310.0, 334000.0], [1130.0, 315450.0], [1540.0, 415000.0], [1160.0, 168000.0], [2100.0, 298450.0], [2210.0, 710000.0], [2270.0, 310000.0], [1130.0, 672000.0], [2140.0, 230000.0], [1640.0, 519000.0], [1520.0, 546800.0], [1510.0, 441500.0], [1780.0, 310000.0], [1510.0, 451101.0], [2380.0, 921000.0], [2080.0, 415000.0], [2420.0, 771000.0], [2400.0, 405000.0], [3170.0, 820000.0], [1340.0, 289571.0], [1490.0, 275000.0], [1740.0, 340000.0], [3010.0, 785000.0], [600.0, 156000.0], [2560.0, 600000.0], [1210.0, 257500.0], [3440.0, 554000.0], [2770.0, 1080000.0], [1770.0, 593567.0], [1550.0, 290000.0], [2830.0, 527000.0], [1175.0, 342000.0], [1180.0, 347500.0], [9200.0, 5570000.0], [1770.0, 514000.0], [5270.0, 1795000.0], [2828.0, 367000.0], [4320.0, 1800000.0], [2170.0, 842000.0], [1750.0, 437000.0], [3600.0, 1415000.0], [3630.0, 834950.0], [2400.0, 403500.0], [3020.0, 755000.0], [2240.0, 635000.0], [1940.0, 450000.0], [2150.0, 649950.0], [1270.0, 276900.0], [2220.0, 739000.0], [2220.0, 456000.0], [2820.0, 336000.0], [2870.0, 460000.0], [1470.0, 432500.0], [1030.0, 212500.0], [3430.0, 1202500.0], [3950.0, 914500.0], [1260.0, 485000.0], [1440.0, 656000.0], [2270.0, 469900.0], [1940.0, 529000.0], [1950.0, 428000.0], [1670.0, 505000.0], [1370.0, 229000.0], [1910.0, 390000.0], [2100.0, 530000.0], [2200.0, 365000.0], [2040.0, 440000.0], [1740.0, 430000.0], [930.0, 300000.0], [2300.0, 298950.0], [1920.0, 715000.0], [2200.0, 480000.0], [2100.0, 437500.0], [1580.0, 749000.0], [920.0, 209000.0], [1640.0, 242000.0], [2850.0, 655000.0], [2070.0, 196000.0], [1500.0, 419000.0], [2880.0, 845000.0], [1677.0, 281000.0], [1000.0, 715000.0], [1530.0, 352000.0], [1740.0, 600000.0], [1410.0, 229950.0], [1440.0, 245000.0], [3970.0, 1450000.0], [1550.0, 266000.0], [1450.0, 550000.0], [3050.0, 740000.0], [3520.0, 775000.0], [3580.0, 616500.0], [3650.0, 1195000.0], [4780.0, 1640000.0], [3760.0, 1150000.0], [7480.0, 800000.0], [2040.0, 825000.0], [2560.0, 632000.0], [1470.0, 490000.0], [2480.0, 481000.0], [980.0, 295000.0], [1640.0, 221000.0], [2350.0, 360000.0], [2100.0, 750000.0], [2900.0, 312000.0], [1740.0, 429950.0], [2320.0, 470000.0], [1360.0, 345000.0], [1300.0, 344000.0], [2650.0, 590000.0], [2440.0, 610000.0], [2980.0, 750000.0], [1200.0, 130000.0], [4270.0, 1610000.0], [2030.0, 430000.0], [2540.0, 380000.0], [700.0, 260000.0], [1380.0, 539000.0], [1020.0, 364000.0], [2160.0, 335000.0], [1810.0, 449000.0], [1496.0, 370000.0], [3090.0, 855000.0], [1040.0, 626000.0], [1760.0, 215000.0], [2329.0, 327555.0], [3830.0, 1850000.0], [1400.0, 386500.0], [1520.0, 460000.0], [2250.0, 260000.0], [2110.0, 380000.0], [1300.0, 380000.0], [1050.0, 194000.0], [2080.0, 365000.0], [1050.0, 235000.0], [2070.0, 235000.0], [3540.0, 1348000.0], [1700.0, 407000.0], [2990.0, 750000.0], [2100.0, 305000.0], [1860.0, 309620.0], [1740.0, 496700.0], [2320.0, 451000.0], [3570.0, 895000.0], [2780.0, 478000.0], [1780.0, 470000.0], [1890.0, 535000.0], [900.0, 179500.0], [1220.0, 469950.0], [2620.0, 565000.0], [2210.0, 719000.0], [2250.0, 792000.0], [1460.0, 290000.0], [2880.0, 285000.0], [1400.0, 249000.0], [1530.0, 865000.0], [1940.0, 500000.0], [2760.0, 495000.0], [860.0, 278000.0], [2290.0, 745000.0], [1970.0, 297000.0], [2280.0, 535000.0], [2620.0, 968060.0], [1670.0, 539950.0], [2478.0, 386000.0], [2350.0, 649950.0], [1630.0, 360400.0], [2640.0, 790000.0], [4230.0, 875000.0], [1000.0, 396480.0], [1570.0, 253000.0], [1590.0, 373000.0], [2100.0, 457000.0], [2130.0, 955500.0], [2210.0, 470000.0], [4140.0, 1060000.0], [1400.0, 241500.0], [970.0, 170000.0], [1690.0, 337000.0], [1940.0, 311500.0], [1400.0, 190000.0], [1480.0, 418000.0], [1590.0, 259000.0], [1630.0, 385000.0], [2300.0, 315000.0], [2680.0, 575000.0], [1000.0, 228000.0], [2520.0, 364950.0], [2510.0, 562000.0], [700.0, 380000.0], [1820.0, 344900.0], [1870.0, 344950.0], [1840.0, 375000.0], [3890.0, 1080000.0], [2810.0, 600000.0], [1090.0, 220000.0], [1000.0, 329950.0], [1440.0, 410000.0], [4140.0, 720000.0], [2410.0, 715000.0], [4130.0, 1900000.0], [3220.0, 1250000.0], [1150.0, 213400.0], [1670.0, 235000.0], [1420.0, 230000.0], [1500.0, 294900.0], [2430.0, 471500.0], [1798.0, 199900.0], [4080.0, 1285000.0], [1140.0, 249900.0], [1070.0, 350000.0], [1720.0, 772500.0], [1390.0, 275000.0], [1550.0, 320000.0], [1970.0, 289000.0], [1880.0, 545000.0], [3520.0, 864500.0], [2070.0, 300000.0], [1060.0, 555750.0], [1580.0, 515000.0], [980.0, 393000.0], [2520.0, 780000.0], [1830.0, 460000.0], [3480.0, 864327.0], [860.0, 122000.0], [1720.0, 279950.0], [3490.0, 975000.0], [3490.0, 692000.0], [2080.0, 567500.0], [1510.0, 479200.0], [3050.0, 1038000.0], [800.0, 267000.0], [1130.0, 237000.0], [5210.0, 2195000.0], [1890.0, 510000.0], [2470.0, 700000.0], [1890.0, 359000.0], [2050.0, 540000.0], [2150.0, 435000.0], [1970.0, 590000.0], [1600.0, 510000.0], [2070.0, 400000.0], [2100.0, 679000.0], [2560.0, 552625.0], [1670.0, 223000.0], [2270.0, 507250.0], [720.0, 150000.0], [2010.0, 639500.0], [1120.0, 165000.0], [1010.0, 300000.0], [2980.0, 905000.0], [3150.0, 815000.0], [1480.0, 307150.0], [1030.0, 210000.0], [1120.0, 380000.0], [1270.0, 360000.0], [2100.0, 610000.0], [1120.0, 399000.0], [3570.0, 2200000.0], [3410.0, 649000.0], [2710.0, 656500.0], [1760.0, 400000.0], [2430.0, 825000.0], [1710.0, 630000.0], [1820.0, 455850.0], [2130.0, 250000.0], [1420.0, 294000.0], [1300.0, 315000.0], [1150.0, 165000.0], [2620.0, 600000.0], [1630.0, 320000.0], [1620.0, 345000.0], [1170.0, 415000.0], [2090.0, 550000.0], [2240.0, 939000.0], [1850.0, 257000.0], [2560.0, 465000.0], [2000.0, 585000.0], [1600.0, 510000.0], [3010.0, 754999.0], [2360.0, 430000.0], [3090.0, 734000.0], [1860.0, 725000.0], [1320.0, 530000.0], [920.0, 380000.0], [1570.0, 350000.0], [1040.0, 382500.0], [3360.0, 945800.0], [3230.0, 572115.0], [2150.0, 597500.0], [3220.0, 775000.0], [2010.0, 430000.0], [1370.0, 205000.0], [1100.0, 215000.0], [1410.0, 626700.0], [1670.0, 785000.0], [1200.0, 245000.0], [1670.0, 240000.0], [3000.0, 2400000.0], [2000.0, 630000.0], [1120.0, 708000.0], [2456.0, 329950.0], [2330.0, 605000.0], [2050.0, 375000.0], [1150.0, 224000.0], [1240.0, 290000.0], [2020.0, 385000.0], [1370.0, 390000.0], [3040.0, 1600000.0], [2930.0, 890000.0], [2230.0, 500000.0], [2510.0, 750000.0], [3940.0, 725000.0], [1300.0, 259500.0], [1860.0, 370000.0], [2560.0, 695000.0], [760.0, 530000.0], [1720.0, 667000.0], [1833.0, 719000.0], [2510.0, 581000.0], [2130.0, 780000.0], [2340.0, 880000.0], [1300.0, 502000.0], [2230.0, 585000.0], [1920.0, 210000.0], [2640.0, 895000.0], [1310.0, 405000.0], [1190.0, 195000.0], [2670.0, 515000.0], [1250.0, 165000.0], [1490.0, 425000.0], [1120.0, 439800.0], [2430.0, 449500.0], [1861.0, 499000.0], [1310.0, 575000.0], [1670.0, 456000.0], [1300.0, 208000.0], [2450.0, 555000.0], [2360.0, 499900.0], [1760.0, 780500.0], [1340.0, 387000.0], [1850.0, 550000.0], [1810.0, 443000.0], [2720.0, 840000.0], [2240.0, 327500.0], [3140.0, 760000.0], [1600.0, 480000.0], [1660.0, 350000.0], [1270.0, 386100.0], [2650.0, 435000.0], [2300.0, 224000.0], [1260.0, 220000.0], [3030.0, 455000.0], [370.0, 276000.0], [830.0, 271115.0], [830.0, 282613.0], [1830.0, 353000.0], [3500.0, 905000.0], [2360.0, 690000.0], [3400.0, 464000.0], [1590.0, 300000.0], [4120.0, 1250000.0], [2350.0, 561600.0], [1370.0, 219000.0], [1800.0, 180500.0], [2100.0, 635000.0], [2630.0, 625000.0], [1060.0, 206000.0], [1100.0, 212000.0], [2760.0, 465000.0], [2150.0, 490000.0], [1880.0, 565000.0], [3580.0, 725000.0], [1710.0, 895000.0], [1980.0, 744000.0], [1070.0, 194000.0], [2210.0, 360000.0], [1340.0, 450000.0], [1050.0, 650000.0], [1910.0, 400000.0], [1480.0, 479000.0], [4420.0, 2328000.0], [1170.0, 350000.0], [830.0, 110000.0], [1430.0, 407000.0], [900.0, 375000.0], [1510.0, 234950.0], [3220.0, 625000.0], [2520.0, 480000.0], [3480.0, 852500.0], [1840.0, 620000.0], [1370.0, 469000.0], [1200.0, 450000.0], [1260.0, 230000.0], [2010.0, 559000.0], [1300.0, 455000.0], [790.0, 115000.0], [1190.0, 400000.0], [1480.0, 899000.0], [1390.0, 445500.0], [1840.0, 599000.0], [3610.0, 1010800.0], [2680.0, 515000.0], [2390.0, 379750.0], [2400.0, 425000.0], [3350.0, 700000.0], [1490.0, 415000.0], [1990.0, 445000.0], [5480.0, 2400000.0], [3320.0, 769000.0], [1740.0, 269900.0], [2420.0, 920000.0], [1290.0, 450000.0], [2100.0, 211000.0], [1120.0, 325000.0], [1330.0, 539950.0], [2960.0, 472500.0], [2720.0, 740000.0], [2420.0, 279950.0], [1710.0, 275000.0], [1620.0, 475000.0], [1610.0, 286950.0], [1390.0, 550000.0], [2320.0, 824000.0], [1740.0, 601000.0], [1460.0, 495000.0], [2052.0, 349900.0], [1720.0, 323000.0], [2880.0, 360000.0], [3230.0, 714000.0], [750.0, 210000.0], [1630.0, 249900.0], [3200.0, 737500.0], [1800.0, 754300.0], [1410.0, 230000.0], [3430.0, 960000.0], [1940.0, 665000.0], [2530.0, 299250.0], [1270.0, 348000.0], [1270.0, 406000.0], [3240.0, 625000.0], [5190.0, 925000.0], [870.0, 313000.0], [3370.0, 1245000.0], [1260.0, 335500.0], [1880.0, 280000.0], [1540.0, 624000.0], [3140.0, 570000.0], [1680.0, 347000.0], [2200.0, 414950.0], [1570.0, 417000.0], [1100.0, 189650.0], [960.0, 232000.0], [1560.0, 544300.0], [2190.0, 255000.0], [2070.0, 770000.0], [1930.0, 273000.0], [2030.0, 310950.0], [990.0, 120000.0], [1650.0, 402500.0], [2570.0, 320000.0], [690.0, 139000.0], [2120.0, 680000.0], [2290.0, 349900.0], [760.0, 110000.0], [1380.0, 265000.0], [2019.0, 293000.0], [1010.0, 347000.0], [4600.0, 880000.0], [2210.0, 640000.0], [1920.0, 589000.0], [2880.0, 536000.0], [1700.0, 500000.0], [2290.0, 625000.0], [1110.0, 379500.0], [1080.0, 339000.0], [2050.0, 273000.0], [1690.0, 230500.0], [1677.0, 295000.0], [1150.0, 480000.0], [2300.0, 535000.0], [1730.0, 459000.0], [2190.0, 334950.0], [2320.0, 552500.0], [2170.0, 638150.0], [2070.0, 560000.0], [2080.0, 550000.0], [1540.0, 350000.0], [1840.0, 583000.0], [1320.0, 225000.0], [1490.0, 445000.0], [2680.0, 1320000.0], [2120.0, 755000.0], [1870.0, 619100.0], [2580.0, 802000.0], [2960.0, 853800.0], [1190.0, 469000.0], [1660.0, 235000.0], [2820.0, 677000.0], [3080.0, 679000.0], [1850.0, 268000.0], [1420.0, 275000.0], [1880.0, 1000000.0], [980.0, 128000.0], [1180.0, 257500.0], [2140.0, 666000.0], [3410.0, 471000.0], [1690.0, 515000.0], [1570.0, 439995.0], [2350.0, 555000.0], [1830.0, 585000.0], [1660.0, 680000.0], [2260.0, 400000.0], [1470.0, 300000.0], [1730.0, 302200.0], [1720.0, 427000.0], [2540.0, 990000.0], [1380.0, 253750.0], [1129.0, 330000.0], [2040.0, 720000.0], [2475.0, 329900.0], [1240.0, 529950.0], [1530.0, 231000.0], [3650.0, 861111.0], [2660.0, 772650.0], [960.0, 320000.0], [2110.0, 298700.0], [2090.0, 339000.0], [620.0, 265000.0], [3540.0, 1027500.0], [4350.0, 2538000.0], [1710.0, 431650.0], [1700.0, 979000.0], [1920.0, 571000.0], [950.0, 193000.0], [970.0, 315000.0], [1190.0, 350000.0], [2950.0, 1065500.0], [1160.0, 508300.0], [2600.0, 440000.0], [2180.0, 419000.0], [4440.0, 1970000.0], [1654.0, 314950.0], [1830.0, 350000.0], [2200.0, 360000.0], [2540.0, 385000.0], [1730.0, 665000.0], [2940.0, 528000.0], [1570.0, 765000.0], [1210.0, 357562.0], [2430.0, 425000.0], [1740.0, 545000.0], [1570.0, 570000.0], [4370.0, 473000.0], [840.0, 151100.0], [4270.0, 770000.0], [1760.0, 544000.0], [2020.0, 370000.0], [960.0, 180000.0], [2290.0, 367950.0], [1240.0, 525000.0], [1980.0, 640000.0], [1810.0, 299500.0], [870.0, 240000.0], [1100.0, 505000.0], [1830.0, 230000.0], [1070.0, 164000.0], [2880.0, 830000.0], [1250.0, 288349.0], [1990.0, 430000.0], [1270.0, 465000.0], [1100.0, 440000.0], [1930.0, 631000.0], [1450.0, 526000.0], [1080.0, 350000.0], [2580.0, 899900.0], [1420.0, 205000.0], [1690.0, 719000.0], [2300.0, 525000.0], [4390.0, 971000.0], [2510.0, 706000.0], [2280.0, 750000.0], [1580.0, 428000.0], [2807.0, 630000.0], [2430.0, 369950.0], [1010.0, 387000.0], [1480.0, 475000.0], [1230.0, 229500.0], [3150.0, 705000.0], [2310.0, 651100.0], [1660.0, 535000.0], [940.0, 329000.0], [4140.0, 657500.0], [3210.0, 770000.0], [1340.0, 357000.0], [1310.0, 249900.0], [1560.0, 549010.0], [2270.0, 526750.0], [2500.0, 336500.0], [940.0, 242500.0], [3220.0, 950968.0], [1728.0, 730000.0], [1450.0, 465000.0], [2070.0, 250000.0], [2280.0, 322000.0], [1480.0, 420000.0], [2740.0, 350000.0], [1315.0, 347000.0], [5540.0, 2575000.0], [1900.0, 410000.0], [1630.0, 650000.0], [1760.0, 647500.0], [3720.0, 1275000.0], [2340.0, 677500.0], [1770.0, 401000.0], [1350.0, 211000.0], [1650.0, 710000.0], [1340.0, 281000.0], [1740.0, 400000.0], [3790.0, 1165000.0], [1630.0, 474900.0], [1220.0, 199000.0], [2400.0, 575000.0], [2510.0, 1185000.0], [2538.0, 335606.0], [2700.0, 357000.0], [2110.0, 780000.0], [1620.0, 327000.0], [3030.0, 525000.0], [1320.0, 430000.0], [1240.0, 352499.0], [3270.0, 987500.0], [1700.0, 250000.0], [1430.0, 213950.0], [1970.0, 315000.0], [1370.0, 387500.0]], \"columns\": [{\"dtype\": \"str\", \"name\": \"id\"}, {\"dtype\": \"datetime\", \"name\": \"date\"}, {\"dtype\": \"float\", \"name\": \"price\"}, {\"dtype\": \"float\", \"name\": \"bedrooms\"}, {\"dtype\": \"float\", \"name\": \"bathrooms\"}, {\"dtype\": \"float\", \"name\": \"sqft_living\"}, {\"dtype\": \"float\", \"name\": \"sqft_lot\"}, {\"dtype\": \"float\", \"name\": \"floors\"}, {\"dtype\": \"int\", \"name\": \"waterfront\"}, {\"dtype\": \"int\", \"name\": \"view\"}, {\"dtype\": \"int\", \"name\": \"condition\"}, {\"dtype\": \"float\", \"name\": \"grade\"}, {\"dtype\": \"float\", \"name\": \"sqft_above\"}, {\"dtype\": \"float\", \"name\": \"sqft_basement\"}, {\"dtype\": \"float\", \"name\": \"yr_built\"}, {\"dtype\": \"float\", \"name\": \"yr_renovated\"}, {\"dtype\": \"str\", \"name\": \"zipcode\"}, {\"dtype\": \"float\", \"name\": \"lat\"}, {\"dtype\": \"float\", \"name\": \"long\"}, {\"dtype\": \"float\", \"name\": \"sqft_living15\"}, {\"dtype\": \"float\", \"name\": \"sqft_lot15\"}]}, e);\n",
       "                });\n",
       "            })();\n",
       "        "
      ]
     },
     "metadata": {},
     "output_type": "display_data"
    }
   ],
   "source": [
    "tc.canvas.set_target(\"ipynb\")\n",
    "sales.show(view=\"Scatter Plot\",x=\"sqft_living\",y=\"price\")"
   ]
  },
  {
   "cell_type": "markdown",
   "metadata": {},
   "source": [
    "# Create a simple regression model of sqft_living to price"
   ]
  },
  {
   "cell_type": "code",
   "execution_count": 16,
   "metadata": {},
   "outputs": [],
   "source": [
    "train_data,test_data=sales.random_split(.8,seed=0)"
   ]
  },
  {
   "cell_type": "markdown",
   "metadata": {},
   "source": [
    "## Build the regression model"
   ]
  },
  {
   "cell_type": "code",
   "execution_count": 17,
   "metadata": {},
   "outputs": [
    {
     "name": "stdout",
     "output_type": "stream",
     "text": [
      "PROGRESS: Creating a validation set from 5 percent of training data. This may take a while.\n",
      "          You can set ``validation_set=None`` to disable validation tracking.\n",
      "\n"
     ]
    },
    {
     "data": {
      "text/html": [
       "<pre>Linear regression:</pre>"
      ],
      "text/plain": [
       "Linear regression:"
      ]
     },
     "metadata": {},
     "output_type": "display_data"
    },
    {
     "data": {
      "text/html": [
       "<pre>--------------------------------------------------------</pre>"
      ],
      "text/plain": [
       "--------------------------------------------------------"
      ]
     },
     "metadata": {},
     "output_type": "display_data"
    },
    {
     "data": {
      "text/html": [
       "<pre>Number of examples          : 16483</pre>"
      ],
      "text/plain": [
       "Number of examples          : 16483"
      ]
     },
     "metadata": {},
     "output_type": "display_data"
    },
    {
     "data": {
      "text/html": [
       "<pre>Number of features          : 1</pre>"
      ],
      "text/plain": [
       "Number of features          : 1"
      ]
     },
     "metadata": {},
     "output_type": "display_data"
    },
    {
     "data": {
      "text/html": [
       "<pre>Number of unpacked features : 1</pre>"
      ],
      "text/plain": [
       "Number of unpacked features : 1"
      ]
     },
     "metadata": {},
     "output_type": "display_data"
    },
    {
     "data": {
      "text/html": [
       "<pre>Number of coefficients    : 2</pre>"
      ],
      "text/plain": [
       "Number of coefficients    : 2"
      ]
     },
     "metadata": {},
     "output_type": "display_data"
    },
    {
     "data": {
      "text/html": [
       "<pre>Starting Newton Method</pre>"
      ],
      "text/plain": [
       "Starting Newton Method"
      ]
     },
     "metadata": {},
     "output_type": "display_data"
    },
    {
     "data": {
      "text/html": [
       "<pre>--------------------------------------------------------</pre>"
      ],
      "text/plain": [
       "--------------------------------------------------------"
      ]
     },
     "metadata": {},
     "output_type": "display_data"
    },
    {
     "data": {
      "text/html": [
       "<pre>+-----------+----------+--------------+--------------------+----------------------+---------------+-----------------+</pre>"
      ],
      "text/plain": [
       "+-----------+----------+--------------+--------------------+----------------------+---------------+-----------------+"
      ]
     },
     "metadata": {},
     "output_type": "display_data"
    },
    {
     "data": {
      "text/html": [
       "<pre>| Iteration | Passes   | Elapsed Time | Training-max_error | Validation-max_error | Training-rmse | Validation-rmse |</pre>"
      ],
      "text/plain": [
       "| Iteration | Passes   | Elapsed Time | Training-max_error | Validation-max_error | Training-rmse | Validation-rmse |"
      ]
     },
     "metadata": {},
     "output_type": "display_data"
    },
    {
     "data": {
      "text/html": [
       "<pre>+-----------+----------+--------------+--------------------+----------------------+---------------+-----------------+</pre>"
      ],
      "text/plain": [
       "+-----------+----------+--------------+--------------------+----------------------+---------------+-----------------+"
      ]
     },
     "metadata": {},
     "output_type": "display_data"
    },
    {
     "data": {
      "text/html": [
       "<pre>| 1         | 2        | 0.015051     | 4354276.947422     | 2043375.512919       | 261838.276519 | 282429.140196   |</pre>"
      ],
      "text/plain": [
       "| 1         | 2        | 0.015051     | 4354276.947422     | 2043375.512919       | 261838.276519 | 282429.140196   |"
      ]
     },
     "metadata": {},
     "output_type": "display_data"
    },
    {
     "data": {
      "text/html": [
       "<pre>+-----------+----------+--------------+--------------------+----------------------+---------------+-----------------+</pre>"
      ],
      "text/plain": [
       "+-----------+----------+--------------+--------------------+----------------------+---------------+-----------------+"
      ]
     },
     "metadata": {},
     "output_type": "display_data"
    },
    {
     "data": {
      "text/html": [
       "<pre>SUCCESS: Optimal solution found.</pre>"
      ],
      "text/plain": [
       "SUCCESS: Optimal solution found."
      ]
     },
     "metadata": {},
     "output_type": "display_data"
    },
    {
     "data": {
      "text/html": [
       "<pre></pre>"
      ],
      "text/plain": []
     },
     "metadata": {},
     "output_type": "display_data"
    }
   ],
   "source": [
    "sqft_model=tc.linear_regression.create(train_data,target=\"price\",features=[\"sqft_living\"])"
   ]
  },
  {
   "cell_type": "markdown",
   "metadata": {},
   "source": [
    "# Evaluate the simple model"
   ]
  },
  {
   "cell_type": "code",
   "execution_count": 18,
   "metadata": {},
   "outputs": [
    {
     "name": "stdout",
     "output_type": "stream",
     "text": [
      "543054.042563\n"
     ]
    }
   ],
   "source": [
    "print(test_data[\"price\"].mean())"
   ]
  },
  {
   "cell_type": "code",
   "execution_count": 19,
   "metadata": {},
   "outputs": [
    {
     "name": "stdout",
     "output_type": "stream",
     "text": [
      "{'max_error': 4147450.7360415095, 'rmse': 255195.89264596757}\n"
     ]
    }
   ],
   "source": [
    "print(sqft_model.evaluate(test_data))"
   ]
  },
  {
   "cell_type": "markdown",
   "metadata": {},
   "source": [
    "# Let's show what our predictions look like"
   ]
  },
  {
   "cell_type": "code",
   "execution_count": 20,
   "metadata": {},
   "outputs": [],
   "source": [
    "import matplotlib.pyplot as plt\n",
    "%matplotlib inline"
   ]
  },
  {
   "cell_type": "code",
   "execution_count": 21,
   "metadata": {},
   "outputs": [
    {
     "data": {
      "text/plain": [
       "[<matplotlib.lines.Line2D at 0x7ffaf413fdd0>,\n",
       " <matplotlib.lines.Line2D at 0x7ffa8c140a90>]"
      ]
     },
     "execution_count": 21,
     "metadata": {},
     "output_type": "execute_result"
    },
    {
     "data": {
      "image/png": "[encoded data removed]",
      "text/plain": [
       "<Figure size 432x288 with 1 Axes>"
      ]
     },
     "metadata": {
      "needs_background": "light"
     },
     "output_type": "display_data"
    }
   ],
   "source": [
    "plt.plot(test_data['sqft_living'],test_data['price'],'.',\n",
    "         test_data['sqft_living'],sqft_model.predict(test_data),'-')"
   ]
  },
  {
   "cell_type": "code",
   "execution_count": null,
   "metadata": {},
   "outputs": [],
   "source": []
  }
 ],
 "metadata": {
  "kernelspec": {
   "display_name": "Python 2",
   "language": "python",
   "name": "python2"
  },
  "language_info": {
   "codemirror_mode": {
    "name": "ipython",
    "version": 2
   },
   "file_extension": ".py",
   "mimetype": "text/x-python",
   "name": "python",
   "nbconvert_exporter": "python",
   "pygments_lexer": "ipython2",
   "version": "2.7.17"
  }
 },
 "nbformat": 4,
 "nbformat_minor": 2
}
